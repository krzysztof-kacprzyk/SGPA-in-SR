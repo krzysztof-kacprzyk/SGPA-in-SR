{
 "cells": [
  {
   "cell_type": "code",
   "execution_count": 1,
   "metadata": {},
   "outputs": [
    {
     "name": "stdout",
     "output_type": "stream",
     "text": [
      "l\n"
     ]
    }
   ],
   "source": [
    "import sympy as sp\n",
    "from sgpa import Perturbation\n",
    "F, theta = sp.symbols(\"F theta\")\n",
    "r = sp.symbols(\"r\", positive=True)\n",
    "y = r*F*sp.sin(theta)\n",
    "print(Perturbation(\"*\",\"*\",r)(y)) # \"l\" (for lambda)"
   ]
  },
  {
   "cell_type": "code",
   "execution_count": 2,
   "metadata": {},
   "outputs": [
    {
     "name": "stdout",
     "output_type": "stream",
     "text": [
      "{r: 0, F: 0, theta: 1}\n",
      "1\n",
      "0.3333333333333333\n",
      "{r: 0}\n"
     ]
    }
   ],
   "source": [
    "import numpy as np\n",
    "from sgpa import complexity_1\n",
    "print(complexity_1(y,[r,F,theta])) # {r:0,F:0,theta:1}\n",
    "print(complexity_1(y,[r,F,theta],reduce_strategy=\"max\")) # 1\n",
    "print(complexity_1(y,[r,F,theta],reduce_strategy=np.mean)) # 0.333...\n",
    "# theta treated as a constant:\n",
    "print(complexity_1(r**theta,[r])) # {r:0}"
   ]
  },
  {
   "cell_type": "code",
   "execution_count": 3,
   "metadata": {},
   "outputs": [
    {
     "name": "stdout",
     "output_type": "stream",
     "text": [
      "f=f0 + f1\n",
      "f0=G*f00*m1*m2\n",
      "f00=1/r2\n",
      "f1=-G*f10*m1*m2\n",
      "f10=1/r1\n",
      "\n"
     ]
    }
   ],
   "source": [
    "from sgpa import ComputationTree\n",
    "G, m1, m2, r1, r2 = sp.symbols(\"G m1 m2 r1 r2\")\n",
    "f = G*m1*m2*(1/r2) - G*m1*m2*(1/r1)\n",
    "print(ComputationTree(f, [m1,m2,r1,r2]))\n",
    "# Will print:\n",
    "# f=f0 + f1\n",
    "# f0=G*f00*m1*m2\n",
    "# f00=1/r2\n",
    "# f1=-G*f10*m1*m2\n",
    "# f10=1/r1"
   ]
  },
  {
   "cell_type": "code",
   "execution_count": 4,
   "metadata": {},
   "outputs": [
    {
     "name": "stdout",
     "output_type": "stream",
     "text": [
      "{m1: [0], m2: [0], r1: [1, 0], r2: [1, 0]}\n",
      "1\n"
     ]
    }
   ],
   "source": [
    "from sgpa import complexity_2\n",
    "print(complexity_2(f,[m1,m2,r1,r2])) # {m1:[0],m2:[0],r1:[1,0],r2:[1,0]}\n",
    "print(complexity_2(f,[m1,m2,r1,r2], reduce_strategy=\"max_all\")) # 1"
   ]
  },
  {
   "cell_type": "code",
   "execution_count": 5,
   "metadata": {},
   "outputs": [
    {
     "name": "stdout",
     "output_type": "stream",
     "text": [
      "False\n",
      "True\n",
      "False\n"
     ]
    }
   ],
   "source": [
    "from sgpa import constraint_1\n",
    "print(constraint_1(y, [r,F,theta])) # False\n",
    "print(constraint_1(y, [r,F])) # True\n",
    "print(constraint_1(f,[m1,m2,r1,r2])) # False"
   ]
  },
  {
   "cell_type": "code",
   "execution_count": 6,
   "metadata": {},
   "outputs": [
    {
     "name": "stdout",
     "output_type": "stream",
     "text": [
      "True\n",
      "True\n",
      "False\n"
     ]
    }
   ],
   "source": [
    "from sgpa import constraint_2\n",
    "print(constraint_2(y, [r,F,theta])) # True\n",
    "print(constraint_2(y, [r,F])) # True\n",
    "print(constraint_2(f,[m1,m2,r1,r2])) # False"
   ]
  },
  {
   "cell_type": "code",
   "execution_count": 7,
   "metadata": {},
   "outputs": [
    {
     "name": "stdout",
     "output_type": "stream",
     "text": [
      "True\n",
      "True\n",
      "True\n"
     ]
    }
   ],
   "source": [
    "from sgpa import constraint_3\n",
    "print(constraint_3(y, [r,F,theta])) # True\n",
    "print(constraint_3(y, [r,F])) # True\n",
    "print(constraint_3(f,[m1,m2,r1,r2])) # True"
   ]
  }
 ],
 "metadata": {
  "kernelspec": {
   "display_name": "sgpa-in-sr",
   "language": "python",
   "name": "python3"
  },
  "language_info": {
   "codemirror_mode": {
    "name": "ipython",
    "version": 3
   },
   "file_extension": ".py",
   "mimetype": "text/x-python",
   "name": "python",
   "nbconvert_exporter": "python",
   "pygments_lexer": "ipython3",
   "version": "3.12.9"
  }
 },
 "nbformat": 4,
 "nbformat_minor": 2
}
